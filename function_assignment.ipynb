{
  "nbformat": 4,
  "nbformat_minor": 0,
  "metadata": {
    "colab": {
      "provenance": []
    },
    "kernelspec": {
      "name": "python3",
      "display_name": "Python 3"
    },
    "language_info": {
      "name": "python"
    }
  },
  "cells": [
    {
      "cell_type": "markdown",
      "source": [
        "## **Theory** ***Question***"
      ],
      "metadata": {
        "id": "BeloETODNf6k"
      }
    },
    {
      "cell_type": "markdown",
      "source": [
        " 1. What is the difference between a function and a method in Python?\n",
        "\n",
        "  - a function is a block of code that perform a specific task  again and again. how many time we call the function.\n",
        "\n",
        "  - and a method is also a function associate with a specific object and call on that object\n",
        "\n",
        "  example-\n",
        "  ```\n",
        "  #function\n",
        "\n",
        "  def sum(*a):\n",
        "  sum = 0\n",
        "  for i in a:\n",
        "     sum+=i\n",
        "  return sum\n",
        "sum(2,3,4)  # it call with any value by this name sum  \n",
        "\n",
        "# method\n",
        "\n",
        "b = \"rahul\"\n",
        "b.upper() # here .upper is a method only call on a specific object like b\n",
        "\n",
        "  \n",
        "\n",
        "  "
      ],
      "metadata": {
        "id": "Fn7pfXa6Nx1G"
      }
    },
    {
      "cell_type": "markdown",
      "source": [
        "2. Explain the concept of function arguments and parameters in Python.\n",
        "\n",
        "- Functions arguments are the values provide to a function when we call it. these arguments can be used by the function to perform a specific task.\n",
        "\n",
        "\n",
        "- parameters are the variable we give in the function defenation that work as a placeholder . we replace them by values when we call the function\n",
        "\n",
        "\n",
        "```\n",
        "function arguments:\n",
        "\n",
        "def sum(a,b):\n",
        "    return a+b\n",
        "sum(5,5) # here 5,5 are function arguments.\n",
        "\n",
        "parameters:\n",
        "\n",
        "def sum(a,b) # here a,b these are the parameters\n"
      ],
      "metadata": {
        "id": "PbQHWHEEcST6"
      }
    },
    {
      "cell_type": "markdown",
      "source": [
        "4. What is the purpose of the `return` statement in a Python function?\n",
        "-  in python return statement use to send a value back from a function .\n",
        "\n",
        "- without return  its only perform and action (like print something)\n",
        "\n",
        "- with return function it returns the value back and that can also store in to a variable to use it later.\n",
        "\n",
        "example :\n",
        "```\n",
        "def sum(a,b):\n",
        "    return a+b\n",
        "result= (sum(5,5))  #this will value back that can be use  in a variable\n",
        "print(f\"Result : {result}\")\n",
        "\n",
        "\n",
        "def sum(a,b):\n",
        "print(f\"Result : {result}\")# result will be none\n",
        "\n"
      ],
      "metadata": {
        "id": "Q3QxKNsmaqaW"
      }
    },
    {
      "cell_type": "markdown",
      "source": [
        "5. What are iterators in Python and how do they differ from iterables?\n",
        "\n",
        "- an iterator is an object that represent a stream of data and perform the iteration called a iterator.\n",
        "\n",
        "- in python iterables are any  sequential str/object/data structure that are able to returns its member one at a time called iterables.\n",
        "\n",
        "example :\n",
        "\n",
        "```\n",
        "a = \"Rahul\" # here \"Rahul\" is a iterable object\n",
        "b = iter(a) # here iter is iterator\n",
        "next(b)"
      ],
      "metadata": {
        "id": "FAjMvK2goWQp"
      }
    },
    {
      "cell_type": "markdown",
      "source": [
        "6. Explain the concept of generators in Python and how they are defined?\n",
        "\n",
        "- Genertors are the python function that are use to create iterators that give back  its values one by one.\n",
        "\n",
        "- they are define using yield.\n",
        "\n",
        "Example =\n",
        "```\n",
        "def s(a):\n",
        "  for i in range(a):\n",
        "    yield i\n",
        "b =s(5)  \n",
        "\n",
        "next(b)\n",
        "0       It will back  the  value from 0 t0 4 one by one\n",
        "next(b)\n",
        "1"
      ],
      "metadata": {
        "id": "jh3r4ohbagCs"
      }
    },
    {
      "cell_type": "markdown",
      "source": [
        "7. What are the advantages of using generators over regular functions?\n",
        "\n",
        "- Regular functions give  back our function result in one go .and for that it also taking so much memory to store.\n",
        "\n",
        "- but generator function did not give our result back in one  go they give back our result one by one also its do the calculation done and only return only we called it for return back the result.\n",
        "\n",
        "```\n",
        "def sum(*a):\n",
        "  sum = 0\n",
        "  for i in a:  \n",
        "     sum+=i\n",
        "  return sum\n",
        "               # it is a regular function\n",
        "sum(5,4)\n",
        "\n",
        "output = 9\n",
        "\n",
        "def sum(*a):\n",
        "  sum = 0\n",
        "  for i in a:  \n",
        "     sum+=i  # it is a generator function it gives our result back one\n",
        "               by one\n",
        "  yield sum\n",
        "\n",
        "\n"
      ],
      "metadata": {
        "id": "VmO-LA99JO-V"
      }
    },
    {
      "cell_type": "markdown",
      "source": [
        "8. What is a lambda function in Python and when is it typically used?\n",
        "\n",
        "- A lambda function in Python is a concise way to create anonymous functions.\n",
        "\n",
        "- Unlike regular functions defined using the def keyword, lambda\n",
        "functions are often used for short-term.\n",
        "\n",
        "Example\n",
        "```\n",
        "sum =(lambda x: x+2)\n",
        "sum(5)\n",
        "output =7\n",
        "\n",
        "\n",
        "\n"
      ],
      "metadata": {
        "id": "k41DD81lTX7x"
      }
    },
    {
      "cell_type": "markdown",
      "source": [
        "9. Explain the purpose and usage of the `map()` function in Python?\n",
        "\n",
        "- map function execute a specific function  in every item of an iterable so when we need to iterate and run a function in each item of an iterable we use map . it also make the code more clean and compact.\n",
        "\n",
        "usage:\n",
        "\n",
        "```\n",
        "a = [2,3,4,5,6,7]\n",
        "list(map(lambda x: x+x ,a))\n",
        "\n",
        "output= [4,6,8,10,12,14]"
      ],
      "metadata": {
        "id": "10NeUlKrbkhx"
      }
    },
    {
      "cell_type": "markdown",
      "source": [
        "10. What is the difference between `map()`, `reduce()`, and `filter()` functions in Python?\n",
        "\n",
        "\n",
        "- map function execute a function in the all item of an iterable and give the result.\n",
        "\n",
        "-  The reduce function is a built-in function from the functools module.\n",
        "\n",
        "It is used to apply a function cumulatively to the items of an iterable (like a list), so as to reduce it to a single value.\n",
        "\n",
        "-  filter function filter out the values from an iterable upon a specified condition .\n",
        "\n",
        "its keep the values or items which condition is true.\n",
        "\n",
        "Example :\n",
        "\n",
        "```\n",
        "a = [2,3,4,5,6,7]\n",
        "list(map(lambda x: x+x ,a))\n",
        "\n",
        "#output = [4, 6, 8, 10, 12, 14] it is a map function.\n",
        "\n",
        "\n",
        "\n",
        "from functools import reduce\n",
        "\n",
        "a =[2,3,4]\n",
        "reduce(lambda x,y: x*y,a)  # reduce function\n",
        "# output 24\n",
        "\n",
        "\n",
        "\n",
        "a =[2,3,4]\n",
        "list(filter(lambda x:  x>2,a ))\n",
        "\n",
        "= [3,4]   #this is a filter function\n",
        "\n"
      ],
      "metadata": {
        "id": "A47GWX_YsJC4"
      }
    },
    {
      "cell_type": "markdown",
      "source": [
        "11. i give the link of the paper image in the in the doc."
      ],
      "metadata": {
        "id": "0SaoBUiE3e2n"
      }
    },
    {
      "cell_type": "code",
      "source": [
        " # 1. Write a Python function that takes a list of numbers as input and returns the sum of all even numbers in the list.\n",
        "\n",
        "def  sum_even(a):\n",
        "  sum=0\n",
        "  for i in a:\n",
        "    if i%2!=0:\n",
        "      sum=sum+i\n",
        "  return sum\n",
        "\n",
        "sum_even([2,3,4,5,6,7,8,9,10])"
      ],
      "metadata": {
        "id": "f1GDTaew1PQU",
        "colab": {
          "base_uri": "https://localhost:8080/"
        },
        "outputId": "f40249da-3e07-43e0-99c4-cbe2b9a2f8cf"
      },
      "execution_count": null,
      "outputs": [
        {
          "output_type": "execute_result",
          "data": {
            "text/plain": [
              "24"
            ]
          },
          "metadata": {},
          "execution_count": 31
        }
      ]
    },
    {
      "cell_type": "code",
      "source": [
        "# 2. Create a Python function that accepts a string and returns the reverse of that string.\n",
        "def reverse(a):\n",
        "  if type(a)==str:\n",
        "    return a[::-1]\n",
        "reverse(\"Rahul\")"
      ],
      "metadata": {
        "colab": {
          "base_uri": "https://localhost:8080/",
          "height": 35
        },
        "id": "lv895LaT2eM3",
        "outputId": "92fc8c58-ebfd-49b0-be9a-2470bffbd1dc"
      },
      "execution_count": null,
      "outputs": [
        {
          "output_type": "execute_result",
          "data": {
            "text/plain": [
              "'luhaR'"
            ],
            "application/vnd.google.colaboratory.intrinsic+json": {
              "type": "string"
            }
          },
          "metadata": {},
          "execution_count": 43
        }
      ]
    },
    {
      "cell_type": "code",
      "source": [
        "# 3.implement a Python function that takes a list of integers and returns a new list containing the squares of each number\n",
        "def square(a):\n",
        "  return [i**2 for i in a]\n",
        "square([2,3,4,5,6,7])"
      ],
      "metadata": {
        "id": "4odqP7Tn89Xj",
        "colab": {
          "base_uri": "https://localhost:8080/"
        },
        "outputId": "f0645b15-f194-491e-8aa4-f6ecb6e25452"
      },
      "execution_count": null,
      "outputs": [
        {
          "output_type": "execute_result",
          "data": {
            "text/plain": [
              "[4, 9, 16, 25, 36, 49]"
            ]
          },
          "metadata": {},
          "execution_count": 69
        }
      ]
    },
    {
      "cell_type": "code",
      "source": [
        "# 4. Write a Python function that checks if a given number is prime or not from 1 to 200.\n",
        "def prime(a):\n",
        "  if a%2!=0:\n",
        "    return a,\"Is a prime Number\"\n",
        "  else:\n",
        "    return a,\"Not a prime number\"\n",
        "print(prime(4))\n",
        "print(prime(7))"
      ],
      "metadata": {
        "colab": {
          "base_uri": "https://localhost:8080/"
        },
        "id": "dgoPcY087gHQ",
        "outputId": "8aba9852-0bab-460c-e137-6562facf9f77"
      },
      "execution_count": null,
      "outputs": [
        {
          "output_type": "stream",
          "name": "stdout",
          "text": [
            "(4, 'Not a prime number')\n",
            "(7, 'Is a prime Number')\n"
          ]
        }
      ]
    },
    {
      "cell_type": "code",
      "source": [
        "#5.Create an iterator class in Python that generates the Fibonacci sequence up to a specified number of terms.\n",
        "def fib(f):\n",
        "  a = 0\n",
        "  b = 1\n",
        "  for i in range(f):\n",
        "    yield a\n",
        "    a, b = b, a + b\n",
        "result=fib(5)"
      ],
      "metadata": {
        "id": "C4Qt_3aO5u9s"
      },
      "execution_count": null,
      "outputs": []
    },
    {
      "cell_type": "code",
      "source": [
        "next(result)"
      ],
      "metadata": {
        "colab": {
          "base_uri": "https://localhost:8080/"
        },
        "id": "8xpcFiExMoBc",
        "outputId": "423c3c70-8e69-4055-d6fa-254a4a34dff2"
      },
      "execution_count": null,
      "outputs": [
        {
          "output_type": "execute_result",
          "data": {
            "text/plain": [
              "0"
            ]
          },
          "metadata": {},
          "execution_count": 20
        }
      ]
    },
    {
      "cell_type": "code",
      "source": [
        "next(result)"
      ],
      "metadata": {
        "colab": {
          "base_uri": "https://localhost:8080/"
        },
        "id": "VhDaxqVGMsRU",
        "outputId": "50f503cc-8373-4e51-9c9b-5142666d6d87"
      },
      "execution_count": null,
      "outputs": [
        {
          "output_type": "execute_result",
          "data": {
            "text/plain": [
              "1"
            ]
          },
          "metadata": {},
          "execution_count": 21
        }
      ]
    },
    {
      "cell_type": "code",
      "source": [
        "next(result)\n"
      ],
      "metadata": {
        "colab": {
          "base_uri": "https://localhost:8080/"
        },
        "id": "_ukz1lT2Mu_Y",
        "outputId": "9187a16e-423f-4ca5-cbc4-d484a923080f"
      },
      "execution_count": null,
      "outputs": [
        {
          "output_type": "execute_result",
          "data": {
            "text/plain": [
              "1"
            ]
          },
          "metadata": {},
          "execution_count": 22
        }
      ]
    },
    {
      "cell_type": "code",
      "source": [
        "# 6. Write a generator function in Python that yields the powers of 2 up to a given exponent.\n",
        "\n",
        "def power(numbers):\n",
        "  for i in range(numbers):\n",
        "    yield i**2\n",
        "v = power(5)"
      ],
      "metadata": {
        "id": "ituaQbnFHqRj"
      },
      "execution_count": null,
      "outputs": []
    },
    {
      "cell_type": "code",
      "source": [
        "next(v)"
      ],
      "metadata": {
        "colab": {
          "base_uri": "https://localhost:8080/"
        },
        "id": "0F1JT_QBIenX",
        "outputId": "ed64ffdf-fc66-43f3-9058-6558239429c3"
      },
      "execution_count": null,
      "outputs": [
        {
          "output_type": "execute_result",
          "data": {
            "text/plain": [
              "0"
            ]
          },
          "metadata": {},
          "execution_count": 61
        }
      ]
    },
    {
      "cell_type": "code",
      "source": [
        "next(v)"
      ],
      "metadata": {
        "colab": {
          "base_uri": "https://localhost:8080/"
        },
        "id": "10zYLxzQJH7a",
        "outputId": "c7369bba-5674-4d2a-ecfa-b1df794c4d9d"
      },
      "execution_count": null,
      "outputs": [
        {
          "output_type": "execute_result",
          "data": {
            "text/plain": [
              "1"
            ]
          },
          "metadata": {},
          "execution_count": 62
        }
      ]
    },
    {
      "cell_type": "code",
      "source": [
        "next(v)"
      ],
      "metadata": {
        "colab": {
          "base_uri": "https://localhost:8080/"
        },
        "id": "FG82X3TEK7uE",
        "outputId": "21195c6c-ac27-4234-96a0-94a50eb97f2c"
      },
      "execution_count": null,
      "outputs": [
        {
          "output_type": "execute_result",
          "data": {
            "text/plain": [
              "4"
            ]
          },
          "metadata": {},
          "execution_count": 63
        }
      ]
    },
    {
      "cell_type": "code",
      "source": [
        "next(v)"
      ],
      "metadata": {
        "colab": {
          "base_uri": "https://localhost:8080/"
        },
        "id": "BMY5jQDRK_IP",
        "outputId": "5d67000f-e0c9-4f33-b24d-bb31cf280dd1"
      },
      "execution_count": null,
      "outputs": [
        {
          "output_type": "execute_result",
          "data": {
            "text/plain": [
              "9"
            ]
          },
          "metadata": {},
          "execution_count": 64
        }
      ]
    },
    {
      "cell_type": "code",
      "source": [
        "# .7. Implement a generator function that reads a file line by line and yields each line as a string.\n",
        "def line(*a):\n",
        "  for i in a:\n",
        "    yield i\n",
        "v = line(\"Rahul\",\" i am a student\")\n"
      ],
      "metadata": {
        "id": "DfGtLnpuLQ06"
      },
      "execution_count": null,
      "outputs": []
    },
    {
      "cell_type": "code",
      "source": [
        "next(v)"
      ],
      "metadata": {
        "colab": {
          "base_uri": "https://localhost:8080/",
          "height": 35
        },
        "id": "jBSjZFDiL_Zi",
        "outputId": "ae2a3b3d-04a0-4e01-f433-d58a0e98af27"
      },
      "execution_count": null,
      "outputs": [
        {
          "output_type": "execute_result",
          "data": {
            "text/plain": [
              "'Rahul'"
            ],
            "application/vnd.google.colaboratory.intrinsic+json": {
              "type": "string"
            }
          },
          "metadata": {},
          "execution_count": 119
        }
      ]
    },
    {
      "cell_type": "code",
      "source": [
        "next(v)"
      ],
      "metadata": {
        "colab": {
          "base_uri": "https://localhost:8080/",
          "height": 35
        },
        "id": "Bvkv-L7eMCWj",
        "outputId": "1077c2d5-45c1-4481-b8ce-76cf14486c56"
      },
      "execution_count": null,
      "outputs": [
        {
          "output_type": "execute_result",
          "data": {
            "text/plain": [
              "' i am a student'"
            ],
            "application/vnd.google.colaboratory.intrinsic+json": {
              "type": "string"
            }
          },
          "metadata": {},
          "execution_count": 120
        }
      ]
    },
    {
      "cell_type": "code",
      "source": [
        "# 8. Use a lambda function in Python to sort a list of tuples based on the second element of each tuple.\n",
        "l = [(4,5,6),(99,56,33),(3,4,55),(4,67,3)]\n",
        "sorted(l, key =lambda x:  x[1])"
      ],
      "metadata": {
        "colab": {
          "base_uri": "https://localhost:8080/"
        },
        "id": "FKqiiXx2HftE",
        "outputId": "d981c3f4-9675-489b-82f3-36fd480ebe98"
      },
      "execution_count": null,
      "outputs": [
        {
          "output_type": "execute_result",
          "data": {
            "text/plain": [
              "[(3, 4, 55), (4, 5, 6), (99, 56, 33), (4, 67, 3)]"
            ]
          },
          "metadata": {},
          "execution_count": 55
        }
      ]
    },
    {
      "cell_type": "code",
      "source": [
        "# 9. Write a Python program that uses `map()` to convert a list of temperatures from Celsius to Fahrenheit.\n",
        "celsius = [25,33,42]\n",
        "list(map(lambda x: (x*9/5)+32,celsius))\n"
      ],
      "metadata": {
        "colab": {
          "base_uri": "https://localhost:8080/"
        },
        "id": "qZsxD-55Iubk",
        "outputId": "bd136eb5-ca7e-45ad-b28f-5074d627a6e9"
      },
      "execution_count": null,
      "outputs": [
        {
          "output_type": "execute_result",
          "data": {
            "text/plain": [
              "[77.0, 91.4, 107.6]"
            ]
          },
          "metadata": {},
          "execution_count": 118
        }
      ]
    },
    {
      "cell_type": "code",
      "source": [
        "# 10. Create a Python program that uses `filter()` to remove all the vowels from a given string.\n",
        "w = \"Rahul\"\n",
        "v = \"aeiou\"\n",
        "\"\".join(list((filter(lambda w: w not  in v,w))))"
      ],
      "metadata": {
        "colab": {
          "base_uri": "https://localhost:8080/",
          "height": 35
        },
        "id": "LHUZx54pLP68",
        "outputId": "97442da8-e2f4-4d4c-8f22-1c168ba999cc"
      },
      "execution_count": null,
      "outputs": [
        {
          "output_type": "execute_result",
          "data": {
            "text/plain": [
              "'Rhl'"
            ],
            "application/vnd.google.colaboratory.intrinsic+json": {
              "type": "string"
            }
          },
          "metadata": {},
          "execution_count": 17
        }
      ]
    },
    {
      "cell_type": "code",
      "metadata": {
        "colab": {
          "base_uri": "https://localhost:8080/"
        },
        "id": "def6676d",
        "outputId": "2f996f23-817d-40a0-a551-a86ffc8d1f7d"
      },
      "source": [
        "#11) Imagine an accounting routine used in a book shop. It works on a list with sublists, which look like this:\n",
        "orders_data = [\n",
        "    [34587, \"Learning Python, Mark Lutz\", 4, 40.95],\n",
        "    [98762, \"Programming Python, Mark Lutz\", 5, 56.80],\n",
        "    [77226, \"Head First Python, Paul Barry\", 3, 32.95],\n",
        "    [88112, \"Einführung in Python3, Bernd Klein\", 3, 24.99]\n",
        "]\n",
        "\n",
        "# Use map and lambda to calculate the product and apply the sum\n",
        "result = list(map(lambda x: (x[0], x[2]*x[3]+10 if x[2]*x[3]>=100 else x[2]*x[3]),orders_data))\n",
        "print(result)\n"
      ],
      "execution_count": null,
      "outputs": [
        {
          "output_type": "stream",
          "name": "stdout",
          "text": [
            "[(34587, 173.8), (98762, 294.0), (77226, 98.85000000000001), (88112, 74.97)]\n"
          ]
        }
      ]
    },
    {
      "cell_type": "code",
      "source": [],
      "metadata": {
        "id": "fm_lun_GJepl"
      },
      "execution_count": null,
      "outputs": []
    }
  ]
}